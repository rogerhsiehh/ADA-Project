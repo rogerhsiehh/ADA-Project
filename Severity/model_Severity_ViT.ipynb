{
 "cells": [
  {
   "cell_type": "code",
   "execution_count": 1,
   "id": "64cdcb06-1177-47d7-bb17-99c0bc778981",
   "metadata": {},
   "outputs": [],
   "source": [
    "## ALL Package\n",
    "import os\n",
    "import shutil\n",
    "from torchvision import transforms\n",
    "from PIL import Image\n",
    "from sklearn.model_selection import train_test_split\n",
    "from datasets import Dataset, DatasetDict, Features, ClassLabel, Image, Value\n",
    "from transformers import ViTImageProcessor, ViTForImageClassification, TrainingArguments, Trainer\n",
    "import torch\n",
    "from torch.utils.data import Dataset, DataLoader\n",
    "import numpy as np\n",
    "from sklearn.metrics import classification_report, confusion_matrix\n",
    "import matplotlib.pyplot as plt\n",
    "import seaborn as sns"
   ]
  },
  {
   "cell_type": "markdown",
   "id": "d0739456-d82e-4de9-a333-501ca09edde0",
   "metadata": {},
   "source": [
    "# Data Preparation"
   ]
  },
  {
   "cell_type": "code",
   "execution_count": 4,
   "id": "619cac39-2be3-4142-b580-41e2de83675a",
   "metadata": {},
   "outputs": [
    {
     "name": "stdout",
     "output_type": "stream",
     "text": [
      "\n",
      "Folder: TRAINING\n",
      "  Skipping non-folder item: .DS_Store\n",
      "  02-moderate: 463 images\n",
      "  01-minor: 452 images\n",
      "  03-severe: 468 images\n",
      "\n",
      "Folder: VALIDATION\n",
      "  02-moderate: 75 images\n",
      "  01-minor: 82 images\n",
      "  03-severe: 91 images\n"
     ]
    }
   ],
   "source": [
    "# Have a quick look at our original dataset\n",
    "import os\n",
    "\n",
    "def count_images_in_folders(base_path):\n",
    "    \"\"\"\n",
    "    Counts the number of images in each sub-folder under a base path.\n",
    "    \n",
    "    Args:\n",
    "        base_path (str): Path to the main directory containing train and validation folders.\n",
    "    \n",
    "    Returns:\n",
    "        None: Prints the counts for each sub-folder.\n",
    "    \"\"\"\n",
    "    try:\n",
    "        # Loop through 'train' and 'validation' folders\n",
    "        for folder_type in ['training', 'validation']:\n",
    "            folder_path = os.path.join(base_path, folder_type)\n",
    "            print(f\"\\nFolder: {folder_type.upper()}\")\n",
    "            \n",
    "            # Check if the folder exists\n",
    "            if not os.path.exists(folder_path):\n",
    "                print(f\"Folder '{folder_path}' does not exist. Skipping...\")\n",
    "                continue\n",
    "            \n",
    "            # Loop through sub-folders\n",
    "            for sub_folder in os.listdir(folder_path):\n",
    "                sub_folder_path = os.path.join(folder_path, sub_folder)\n",
    "                \n",
    "                if os.path.isdir(sub_folder_path):\n",
    "                    # Count files (images) in the sub-folder\n",
    "                    image_count = len([f for f in os.listdir(sub_folder_path) \n",
    "                                       if os.path.isfile(os.path.join(sub_folder_path, f))])\n",
    "                    print(f\"  {sub_folder}: {image_count} images\")\n",
    "                else:\n",
    "                    print(f\"  Skipping non-folder item: {sub_folder}\")\n",
    "    except Exception as e:\n",
    "        print(f\"An error occurred: {e}\")\n",
    "\n",
    "# Replace this with the path to your 'data3a' directory\n",
    "base_path = \"data3a\"\n",
    "count_images_in_folders(base_path)"
   ]
  },
  {
   "cell_type": "markdown",
   "id": "42a1ea2d-fc87-4d14-a592-fec76e9eb0a0",
   "metadata": {},
   "source": [
    "## Data augmentation"
   ]
  },
  {
   "cell_type": "code",
   "execution_count": 1,
   "id": "04cfbada-6487-4319-ba0c-b05f7f506471",
   "metadata": {},
   "outputs": [],
   "source": [
    "import os\n",
    "import shutil\n",
    "from torchvision import transforms\n",
    "from PIL import Image\n",
    "from sklearn.model_selection import train_test_split\n",
    "\n",
    "# Paths\n",
    "data3a_path = 'data3a'  # This is the dataset download from Kaggle \n",
    "augmented_path = 'augmented_data3a'  # Path to save augmented dataset\n",
    "data_prep_path = 'data_prep'  # Final path for split datasets\n",
    "\n",
    "# Create directories for augmented dataset\n",
    "os.makedirs(augmented_path, exist_ok=True)\n",
    "\n",
    "# Define augmentations\n",
    "augmentation_transforms = [\n",
    "    transforms.RandomHorizontalFlip(p=1.0),  # Flip horizontally\n",
    "    transforms.RandomVerticalFlip(p=1.0),    # Flip vertically\n",
    "    transforms.RandomRotation(30),           # Rotate by 30 degrees\n",
    "    transforms.RandomRotation(90),           # Rotate by 90 degrees\n",
    "]\n",
    "\n",
    "def augment_and_save(input_dir, output_dir):\n",
    "    # Iterate through subfolders\n",
    "    for subfolder in os.listdir(input_dir):\n",
    "        subfolder_path = os.path.join(input_dir, subfolder)\n",
    "        if os.path.isdir(subfolder_path):\n",
    "            # Create corresponding folder in output_dir\n",
    "            output_subfolder = os.path.join(output_dir, subfolder)\n",
    "            os.makedirs(output_subfolder, exist_ok=True)\n",
    "\n",
    "            # Process image files in the subfolder\n",
    "            for img_name in os.listdir(subfolder_path):\n",
    "                img_path = os.path.join(subfolder_path, img_name)\n",
    "\n",
    "                # Skip directories or non-image files\n",
    "                if not img_name.lower().endswith(('.png', '.jpg', '.jpeg', '.bmp', '.tiff', '.gif')):\n",
    "                    continue\n",
    "\n",
    "                try:\n",
    "                    with Image.open(img_path) as img:\n",
    "                        # Save original image\n",
    "                        img.save(os.path.join(output_subfolder, f\"{os.path.splitext(img_name)[0]}_original.jpg\"))\n",
    "\n",
    "                        # Apply each augmentation and save the result\n",
    "                        for idx, transform in enumerate(augmentation_transforms):\n",
    "                            augmented_img = transform(img)  # Apply transformation directly\n",
    "                            augmented_img.save(os.path.join(output_subfolder, f\"{os.path.splitext(img_name)[0]}_aug_{idx}.jpg\"))\n",
    "\n",
    "                except Exception as e:\n",
    "                    print(f\"Error processing file {img_path}: {e}\")\n",
    "\n",
    "# Augment both training and validation folders\n",
    "augment_and_save(os.path.join(data3a_path, 'training'), os.path.join(augmented_path, 'training'))\n",
    "augment_and_save(os.path.join(data3a_path, 'validation'), os.path.join(augmented_path, 'validation'))\n",
    "\n",
    "# Split augmented training data into training and validation\n",
    "train_augmented_path = os.path.join(augmented_path, 'training')\n",
    "val_augmented_path = os.path.join(augmented_path, 'validation')"
   ]
  },
  {
   "cell_type": "markdown",
   "id": "4aaabfc7-04ed-4b0c-b3e0-fac7d1c6a8ff",
   "metadata": {},
   "source": [
    "## Split data from the augmentation dataset"
   ]
  },
  {
   "cell_type": "code",
   "execution_count": 2,
   "id": "9a9cabff-cc4b-48a1-b158-d2fda2dd3cef",
   "metadata": {},
   "outputs": [
    {
     "name": "stdout",
     "output_type": "stream",
     "text": [
      "Dataset preparation completed!\n"
     ]
    }
   ],
   "source": [
    "# Create directories for final dataset\n",
    "os.makedirs(os.path.join(data_prep_path, 'train'), exist_ok=True)\n",
    "os.makedirs(os.path.join(data_prep_path, 'validation'), exist_ok=True)\n",
    "os.makedirs(os.path.join(data_prep_path, 'test'), exist_ok=True)\n",
    "\n",
    "# Split augmented training data into training and validation\n",
    "for subfolder in os.listdir(train_augmented_path):\n",
    "    subfolder_path = os.path.join(train_augmented_path, subfolder)\n",
    "    if os.path.isdir(subfolder_path):\n",
    "        files = os.listdir(subfolder_path)\n",
    "        train_files, val_files = train_test_split(files, test_size=0.2, random_state=42)\n",
    "\n",
    "        # Ensure subfolder paths in the destination are created\n",
    "        train_output_subfolder = os.path.join(data_prep_path, 'train', subfolder)\n",
    "        val_output_subfolder = os.path.join(data_prep_path, 'validation', subfolder)\n",
    "        os.makedirs(train_output_subfolder, exist_ok=True)\n",
    "        os.makedirs(val_output_subfolder, exist_ok=True)\n",
    "\n",
    "        # Save files to new training and validation folders\n",
    "        for file in train_files:\n",
    "            shutil.copy(os.path.join(subfolder_path, file), os.path.join(train_output_subfolder, file))\n",
    "        for file in val_files:\n",
    "            shutil.copy(os.path.join(subfolder_path, file), os.path.join(val_output_subfolder, file))\n",
    "\n",
    "# Copy augmented validation data to testing folder\n",
    "for subfolder in os.listdir(val_augmented_path):\n",
    "    subfolder_path = os.path.join(val_augmented_path, subfolder)\n",
    "    if os.path.isdir(subfolder_path):\n",
    "        test_output_subfolder = os.path.join(data_prep_path, 'test', subfolder)\n",
    "        os.makedirs(test_output_subfolder, exist_ok=True)\n",
    "\n",
    "        # Copy files to testing folder\n",
    "        for file in os.listdir(subfolder_path):\n",
    "            shutil.copy(os.path.join(subfolder_path, file), os.path.join(test_output_subfolder, file))\n",
    "\n",
    "print(\"Dataset preparation completed!\")"
   ]
  },
  {
   "cell_type": "markdown",
   "id": "496e219d-647e-4bcb-82bf-1e3e03a0c5ff",
   "metadata": {},
   "source": [
    "## Transform to HuggingFace-like dataset structure"
   ]
  },
  {
   "cell_type": "code",
   "execution_count": 2,
   "id": "5c31931b-4fa1-4e30-b8e4-008b4f6f1912",
   "metadata": {},
   "outputs": [
    {
     "name": "stdout",
     "output_type": "stream",
     "text": [
      "{'image': <PIL.JpegImagePlugin.JpegImageFile image mode=RGB size=274x184 at 0x1374730E0>, 'labels': 0, 'image_file_path': 'data_prep/train/01-minor/0047_aug_0.jpg'}\n"
     ]
    }
   ],
   "source": [
    "from datasets import Dataset, DatasetDict, Features, ClassLabel, Image, Value\n",
    "import os\n",
    "\n",
    "# Define paths\n",
    "data_prep_path = \"data_prep\"\n",
    "\n",
    "# Mapping folder names to labels\n",
    "label_mapping = {\n",
    "    \"01-minor\": 1,\n",
    "    \"02-moderate\": 2,\n",
    "    \"03-severe\": 3,\n",
    "}\n",
    "\n",
    "# Function to prepare dataset entries\n",
    "def prepare_entries(base_path, split):\n",
    "    entries = {\"image\": [], \"labels\": [], \"image_file_path\": []}  # Initialize dictionary with keys\n",
    "    split_path = os.path.join(base_path, split)\n",
    "    \n",
    "    for label_name, label in label_mapping.items():\n",
    "        folder_path = os.path.join(split_path, label_name)\n",
    "        \n",
    "        for image_name in os.listdir(folder_path):\n",
    "            image_path = os.path.join(folder_path, image_name)\n",
    "            if image_name.lower().endswith(('.png', '.jpg', '.jpeg')):  # Filter valid image files\n",
    "                entries[\"image\"].append(image_path)  # Store the image path\n",
    "                entries[\"labels\"].append(label - 1)  # Convert to zero-based index for ClassLabel\n",
    "                entries[\"image_file_path\"].append(image_path)  # Store the image file path\n",
    "    return entries\n",
    "\n",
    "# Prepare datasets\n",
    "train_entries = prepare_entries(data_prep_path, \"train\")\n",
    "val_entries = prepare_entries(data_prep_path, \"validation\")\n",
    "test_entries = prepare_entries(data_prep_path, \"test\")\n",
    "\n",
    "# Define features for HuggingFace dataset\n",
    "features = Features({\n",
    "    \"image\": Image(),  # Automatically loads images when accessed\n",
    "    \"labels\": ClassLabel(num_classes=3, names=[\"minor\", \"moderate\", \"severe\"]),  # Label feature\n",
    "    \"image_file_path\": Value(\"string\")  # File path feature\n",
    "})\n",
    "\n",
    "# Create HuggingFace datasets\n",
    "train_dataset = Dataset.from_dict(train_entries, features=features)\n",
    "val_dataset = Dataset.from_dict(val_entries, features=features)\n",
    "test_dataset = Dataset.from_dict(test_entries, features=features)\n",
    "\n",
    "# Combine into DatasetDict\n",
    "ds = DatasetDict({\n",
    "    \"train\": train_dataset,\n",
    "    \"validation\": val_dataset,\n",
    "    \"test\": test_dataset\n",
    "})\n",
    "\n",
    "# Print an example from the training set\n",
    "print(ds['train'][0])"
   ]
  },
  {
   "cell_type": "markdown",
   "id": "b18323eb-e2c1-4fa9-bc0c-da097b9c0658",
   "metadata": {},
   "source": [
    "## Example Dataset"
   ]
  },
  {
   "cell_type": "code",
   "execution_count": 3,
   "id": "c7434a9a-f973-49b8-ac30-80ec56ad1cfc",
   "metadata": {},
   "outputs": [
    {
     "data": {
      "text/plain": [
       "DatasetDict({\n",
       "    train: Dataset({\n",
       "        features: ['image', 'labels', 'image_file_path'],\n",
       "        num_rows: 5532\n",
       "    })\n",
       "    validation: Dataset({\n",
       "        features: ['image', 'labels', 'image_file_path'],\n",
       "        num_rows: 1383\n",
       "    })\n",
       "    test: Dataset({\n",
       "        features: ['image', 'labels', 'image_file_path'],\n",
       "        num_rows: 1240\n",
       "    })\n",
       "})"
      ]
     },
     "execution_count": 3,
     "metadata": {},
     "output_type": "execute_result"
    }
   ],
   "source": [
    "ds"
   ]
  },
  {
   "cell_type": "code",
   "execution_count": 4,
   "id": "62c9c32f-f584-4b5b-9b7b-4297b6705ecb",
   "metadata": {},
   "outputs": [
    {
     "data": {
      "image/jpeg": "[encoded data removed]",
      "image/png": "[encoded data removed]",
      "text/plain": [
       "<PIL.JpegImagePlugin.JpegImageFile image mode=RGB size=153x114>"
      ]
     },
     "execution_count": 4,
     "metadata": {},
     "output_type": "execute_result"
    }
   ],
   "source": [
    "ds['train'][1]['image']"
   ]
  },
  {
   "cell_type": "code",
   "execution_count": 5,
   "id": "88608ff9-4c76-4770-9210-f461e255729d",
   "metadata": {},
   "outputs": [
    {
     "data": {
      "text/plain": [
       "ClassLabel(names=['minor', 'moderate', 'severe'], id=None)"
      ]
     },
     "execution_count": 5,
     "metadata": {},
     "output_type": "execute_result"
    }
   ],
   "source": [
    "labels = ds['train'].features['labels']\n",
    "labels"
   ]
  },
  {
   "cell_type": "code",
   "execution_count": 6,
   "id": "027f707f-e24a-4078-b050-1be8105ff7b5",
   "metadata": {},
   "outputs": [
    {
     "data": {
      "text/plain": [
       "'minor'"
      ]
     },
     "execution_count": 6,
     "metadata": {},
     "output_type": "execute_result"
    }
   ],
   "source": [
    "ex=ds['train'][0]\n",
    "labels.int2str(ex['labels'])"
   ]
  },
  {
   "cell_type": "markdown",
   "id": "c3a84d59-1f00-43e6-9166-98fb99f4f7d2",
   "metadata": {},
   "source": [
    "## Show some data with label"
   ]
  },
  {
   "cell_type": "code",
   "execution_count": 41,
   "id": "94e96a35-2d32-41ff-84ec-f0f364379d56",
   "metadata": {},
   "outputs": [
    {
     "data": {
      "application/vnd.jupyter.widget-view+json": {
       "model_id": "c6b48591ba1c4fa59e7d6cfc803355be",
       "version_major": 2,
       "version_minor": 0
      },
      "text/plain": [
       "Filter:   0%|          | 0/5532 [00:00<?, ? examples/s]"
      ]
     },
     "metadata": {},
     "output_type": "display_data"
    },
    {
     "data": {
      "application/vnd.jupyter.widget-view+json": {
       "model_id": "7d681c7d48a448d88bd9b2b0e7633a84",
       "version_major": 2,
       "version_minor": 0
      },
      "text/plain": [
       "Filter:   0%|          | 0/5532 [00:00<?, ? examples/s]"
      ]
     },
     "metadata": {},
     "output_type": "display_data"
    },
    {
     "data": {
      "application/vnd.jupyter.widget-view+json": {
       "model_id": "878d6874e727450b96b9814c0559befe",
       "version_major": 2,
       "version_minor": 0
      },
      "text/plain": [
       "Filter:   0%|          | 0/5532 [00:00<?, ? examples/s]"
      ]
     },
     "metadata": {},
     "output_type": "display_data"
    }
   ],
   "source": [
    "import random\n",
    "from PIL import ImageDraw, ImageFont, Image\n",
    "\n",
    "def show_examples(ds, seed: int = 1234, examples_per_class: int = 3, size=(350, 350)):\n",
    "    w, h = size\n",
    "    labels = ds['train'].features['labels'].names  # Get class names from ClassLabel\n",
    "    grid = Image.new('RGB', size=(examples_per_class * w, len(labels) * h))\n",
    "    draw = ImageDraw.Draw(grid)\n",
    "    \n",
    "    # Use default PIL font if the specified font is not available\n",
    "    try:\n",
    "        font = ImageFont.truetype(\"/usr/share/fonts/truetype/liberation/LiberationMono-Bold.ttf\", 24)\n",
    "    except IOError:\n",
    "        font = ImageFont.load_default()\n",
    "\n",
    "    for label_id, label in enumerate(labels):  # No need to adjust label_id (starts from 0 with ClassLabel)\n",
    "        # Filter the dataset by a single label, shuffle it, and grab a few samples\n",
    "        ds_slice = ds['train'].filter(lambda ex: ex['labels'] == label_id).shuffle(seed).select(range(examples_per_class))\n",
    "\n",
    "        # Plot this label's examples along a row\n",
    "        for i, example in enumerate(ds_slice):\n",
    "            image = example['image']\n",
    "            idx = examples_per_class * label_id + i\n",
    "            box = (idx % examples_per_class * w, idx // examples_per_class * h)\n",
    "            grid.paste(image.resize(size), box=box)\n",
    "            draw.text(box, label, (255, 255, 255), font=font)\n",
    "\n",
    "    return grid\n",
    "\n",
    "# Generate and show examples\n",
    "example_grid = show_examples(ds, seed=random.randint(0, 1337), examples_per_class=3)\n",
    "example_grid.show()"
   ]
  },
  {
   "cell_type": "markdown",
   "id": "635bb57b-c7f3-40d2-a563-dbb0a4afa724",
   "metadata": {},
   "source": [
    "# Feature Processor"
   ]
  },
  {
   "cell_type": "markdown",
   "id": "87f10827-8b2a-4cc6-ae79-e2e14ece3a68",
   "metadata": {},
   "source": [
    "1. Resize\n",
    "2. Normalize\n",
    "3. Convert image from PIL to tensors"
   ]
  },
  {
   "cell_type": "markdown",
   "id": "a3b97fea-db0b-40d3-ad02-040c756a6069",
   "metadata": {},
   "source": [
    "## Loading ViT Feature Processor"
   ]
  },
  {
   "cell_type": "code",
   "execution_count": 7,
   "id": "454184dd-9813-4153-b7eb-af9e15fc7545",
   "metadata": {},
   "outputs": [],
   "source": [
    "from transformers import ViTImageProcessor, ViTForImageClassification, TrainingArguments, Trainer\n",
    "import torch\n",
    "from torch.utils.data import Dataset, DataLoader\n",
    "import numpy as np"
   ]
  },
  {
   "cell_type": "code",
   "execution_count": 8,
   "id": "776abd5e-7f25-4613-800b-317c3c6a36bf",
   "metadata": {},
   "outputs": [],
   "source": [
    "# Define feature processor\n",
    "model_name_or_path = 'google/vit-base-patch16-224-in21k'\n",
    "feature_processor = ViTImageProcessor.from_pretrained(model_name_or_path)"
   ]
  },
  {
   "cell_type": "markdown",
   "id": "d88c5903-5dbb-4a25-846c-2775c00b6924",
   "metadata": {},
   "source": [
    "## Transform Dataset"
   ]
  },
  {
   "cell_type": "code",
   "execution_count": 9,
   "id": "d0f08acf-6e26-4cce-99d7-a59fb99156fa",
   "metadata": {},
   "outputs": [],
   "source": [
    "def transform(example_batch):\n",
    "    # Take a list of PIL images and turn them to pixel values\n",
    "    inputs = feature_processor([x for x in example_batch['image']], return_tensors='pt')\n",
    "\n",
    "    # Don't forget to include the labels!\n",
    "    inputs['labels'] = example_batch['labels']\n",
    "    return inputs\n",
    "\n",
    "prepared_ds = ds.with_transform(transform)"
   ]
  },
  {
   "cell_type": "code",
   "execution_count": 10,
   "id": "b814e4b7-f765-4169-abef-80691c8606e1",
   "metadata": {},
   "outputs": [
    {
     "data": {
      "text/plain": [
       "{'pixel_values': tensor([[[-1., -1., -1.,  ..., -1., -1., -1.],\n",
       "          [-1., -1., -1.,  ..., -1., -1., -1.],\n",
       "          [-1., -1., -1.,  ..., -1., -1., -1.],\n",
       "          ...,\n",
       "          [-1., -1., -1.,  ..., -1., -1., -1.],\n",
       "          [-1., -1., -1.,  ..., -1., -1., -1.],\n",
       "          [-1., -1., -1.,  ..., -1., -1., -1.]],\n",
       " \n",
       "         [[-1., -1., -1.,  ..., -1., -1., -1.],\n",
       "          [-1., -1., -1.,  ..., -1., -1., -1.],\n",
       "          [-1., -1., -1.,  ..., -1., -1., -1.],\n",
       "          ...,\n",
       "          [-1., -1., -1.,  ..., -1., -1., -1.],\n",
       "          [-1., -1., -1.,  ..., -1., -1., -1.],\n",
       "          [-1., -1., -1.,  ..., -1., -1., -1.]],\n",
       " \n",
       "         [[-1., -1., -1.,  ..., -1., -1., -1.],\n",
       "          [-1., -1., -1.,  ..., -1., -1., -1.],\n",
       "          [-1., -1., -1.,  ..., -1., -1., -1.],\n",
       "          ...,\n",
       "          [-1., -1., -1.,  ..., -1., -1., -1.],\n",
       "          [-1., -1., -1.,  ..., -1., -1., -1.],\n",
       "          [-1., -1., -1.,  ..., -1., -1., -1.]]]),\n",
       " 'labels': 0}"
      ]
     },
     "execution_count": 10,
     "metadata": {},
     "output_type": "execute_result"
    }
   ],
   "source": [
    "prepared_ds['train'][1]"
   ]
  },
  {
   "cell_type": "markdown",
   "id": "e9a50ae9-ad1d-45a4-a15e-41e44e4c7337",
   "metadata": {},
   "source": [
    "# Training and Evaluation(ViT-Base)"
   ]
  },
  {
   "cell_type": "markdown",
   "id": "f0792695-a0b7-4e10-8702-606bbb23410a",
   "metadata": {},
   "source": [
    "## Define data collector"
   ]
  },
  {
   "cell_type": "code",
   "execution_count": 11,
   "id": "f79cb988-8aa6-41d2-afe5-4b89aa132854",
   "metadata": {},
   "outputs": [],
   "source": [
    "import torch\n",
    "\n",
    "def collate_fn(batch):\n",
    "    return {\n",
    "        'pixel_values': torch.stack([x['pixel_values'] for x in batch]),\n",
    "        'labels': torch.tensor([x['labels'] for x in batch])\n",
    "    }"
   ]
  },
  {
   "cell_type": "markdown",
   "id": "5fd26597-4fce-4c93-abe9-8f6025c8e49f",
   "metadata": {},
   "source": [
    "## Define an evaluation metric"
   ]
  },
  {
   "cell_type": "code",
   "execution_count": 12,
   "id": "df14e83d-4916-462a-86a4-e6094c0ed734",
   "metadata": {},
   "outputs": [],
   "source": [
    "from evaluate import load\n",
    "\n",
    "metric = load(\"accuracy\")\n",
    "def compute_metrics(p):\n",
    "    return metric.compute(predictions=np.argmax(p.predictions, axis=1), references=p.label_ids)"
   ]
  },
  {
   "cell_type": "markdown",
   "id": "6a0e8362-0594-46bf-87e5-13af56a085fe",
   "metadata": {},
   "source": [
    "## Load Pretrained Model"
   ]
  },
  {
   "cell_type": "code",
   "execution_count": 41,
   "id": "4142d952-4e6a-4e41-b36b-5482ed10182e",
   "metadata": {},
   "outputs": [
    {
     "name": "stderr",
     "output_type": "stream",
     "text": [
      "Some weights of ViTForImageClassification were not initialized from the model checkpoint at google/vit-base-patch16-224-in21k and are newly initialized: ['classifier.bias', 'classifier.weight']\n",
      "You should probably TRAIN this model on a down-stream task to be able to use it for predictions and inference.\n"
     ]
    }
   ],
   "source": [
    "# Load the ViT Model\n",
    "\n",
    "labels = ds['train'].features['labels'].names\n",
    "model = ViTForImageClassification.from_pretrained(\n",
    "    model_name_or_path,\n",
    "    num_labels=len(labels),\n",
    "    id2label={str(i): c for i, c in enumerate(labels)},\n",
    "    label2id={c: str(i) for i, c in enumerate(labels)}\n",
    ")"
   ]
  },
  {
   "cell_type": "code",
   "execution_count": 42,
   "id": "75467948-e6f1-4478-a928-933f9e5b4c5f",
   "metadata": {},
   "outputs": [
    {
     "name": "stdout",
     "output_type": "stream",
     "text": [
      "Trainable Parameters: ['classifier.weight', 'classifier.bias']\n"
     ]
    }
   ],
   "source": [
    "# Freeze the backbone\n",
    "for param in model.vit.parameters():\n",
    "    param.requires_grad = False\n",
    "\n",
    "# Verify trainable parameters\n",
    "trainable_params = [name for name, param in model.named_parameters() if param.requires_grad]\n",
    "print(\"Trainable Parameters:\", trainable_params)"
   ]
  },
  {
   "cell_type": "code",
   "execution_count": 13,
   "id": "ce955524-ca42-44f6-b9b3-f05e565aad90",
   "metadata": {},
   "outputs": [],
   "source": [
    "# Define Training Arguments\n",
    "training_args = TrainingArguments(\n",
    "    output_dir=\"./vit-final-layer-only\",\n",
    "    per_device_train_batch_size=32,\n",
    "    eval_strategy=\"steps\",  \n",
    "    num_train_epochs=10,\n",
    "    bf16=True,\n",
    "    save_steps=100,\n",
    "    eval_steps=100,\n",
    "    logging_steps=10,\n",
    "    learning_rate=2e-4,\n",
    "    save_total_limit=2,\n",
    "    remove_unused_columns=False,\n",
    "    push_to_hub=False,\n",
    "    report_to='tensorboard',\n",
    "    load_best_model_at_end=True,\n",
    ")"
   ]
  },
  {
   "cell_type": "code",
   "execution_count": 44,
   "id": "4a8c7ddc-e5cc-40ab-afa9-3ce0967f5c88",
   "metadata": {},
   "outputs": [],
   "source": [
    "# Initialize Trainer\n",
    "\n",
    "trainer = Trainer(\n",
    "    model=model,\n",
    "    args=training_args,\n",
    "    data_collator=collate_fn,\n",
    "    compute_metrics=compute_metrics,\n",
    "    train_dataset=prepared_ds['train'],\n",
    "    eval_dataset=prepared_ds['validation'],\n",
    "    processing_class=feature_processor\n",
    ")"
   ]
  },
  {
   "cell_type": "code",
   "execution_count": 61,
   "id": "9512132e-4bd6-4be8-8b56-8a3ac201497a",
   "metadata": {},
   "outputs": [
    {
     "data": {
      "text/html": [
       "\n",
       "    <div>\n",
       "      \n",
       "      <progress value='1730' max='1730' style='width:300px; height:20px; vertical-align: middle;'></progress>\n",
       "      [1730/1730 1:46:12, Epoch 10/10]\n",
       "    </div>\n",
       "    <table border=\"1\" class=\"dataframe\">\n",
       "  <thead>\n",
       " <tr style=\"text-align: left;\">\n",
       "      <th>Step</th>\n",
       "      <th>Training Loss</th>\n",
       "      <th>Validation Loss</th>\n",
       "      <th>Accuracy</th>\n",
       "    </tr>\n",
       "  </thead>\n",
       "  <tbody>\n",
       "    <tr>\n",
       "      <td>100</td>\n",
       "      <td>1.010900</td>\n",
       "      <td>1.006869</td>\n",
       "      <td>0.597252</td>\n",
       "    </tr>\n",
       "    <tr>\n",
       "      <td>200</td>\n",
       "      <td>0.947200</td>\n",
       "      <td>0.951415</td>\n",
       "      <td>0.616775</td>\n",
       "    </tr>\n",
       "    <tr>\n",
       "      <td>300</td>\n",
       "      <td>0.899800</td>\n",
       "      <td>0.914648</td>\n",
       "      <td>0.617498</td>\n",
       "    </tr>\n",
       "    <tr>\n",
       "      <td>400</td>\n",
       "      <td>0.888900</td>\n",
       "      <td>0.889270</td>\n",
       "      <td>0.624729</td>\n",
       "    </tr>\n",
       "    <tr>\n",
       "      <td>500</td>\n",
       "      <td>0.862000</td>\n",
       "      <td>0.870312</td>\n",
       "      <td>0.631960</td>\n",
       "    </tr>\n",
       "    <tr>\n",
       "      <td>600</td>\n",
       "      <td>0.811200</td>\n",
       "      <td>0.855697</td>\n",
       "      <td>0.631236</td>\n",
       "    </tr>\n",
       "    <tr>\n",
       "      <td>700</td>\n",
       "      <td>0.845200</td>\n",
       "      <td>0.845433</td>\n",
       "      <td>0.637021</td>\n",
       "    </tr>\n",
       "    <tr>\n",
       "      <td>800</td>\n",
       "      <td>0.838200</td>\n",
       "      <td>0.836905</td>\n",
       "      <td>0.640636</td>\n",
       "    </tr>\n",
       "    <tr>\n",
       "      <td>900</td>\n",
       "      <td>0.860600</td>\n",
       "      <td>0.829650</td>\n",
       "      <td>0.644975</td>\n",
       "    </tr>\n",
       "    <tr>\n",
       "      <td>1000</td>\n",
       "      <td>0.796700</td>\n",
       "      <td>0.824000</td>\n",
       "      <td>0.644252</td>\n",
       "    </tr>\n",
       "    <tr>\n",
       "      <td>1100</td>\n",
       "      <td>0.825300</td>\n",
       "      <td>0.819117</td>\n",
       "      <td>0.644252</td>\n",
       "    </tr>\n",
       "    <tr>\n",
       "      <td>1200</td>\n",
       "      <td>0.785000</td>\n",
       "      <td>0.815325</td>\n",
       "      <td>0.644252</td>\n",
       "    </tr>\n",
       "    <tr>\n",
       "      <td>1300</td>\n",
       "      <td>0.758900</td>\n",
       "      <td>0.812171</td>\n",
       "      <td>0.647144</td>\n",
       "    </tr>\n",
       "    <tr>\n",
       "      <td>1400</td>\n",
       "      <td>0.801000</td>\n",
       "      <td>0.810169</td>\n",
       "      <td>0.649313</td>\n",
       "    </tr>\n",
       "    <tr>\n",
       "      <td>1500</td>\n",
       "      <td>0.774100</td>\n",
       "      <td>0.808574</td>\n",
       "      <td>0.647867</td>\n",
       "    </tr>\n",
       "    <tr>\n",
       "      <td>1600</td>\n",
       "      <td>0.782200</td>\n",
       "      <td>0.807552</td>\n",
       "      <td>0.649313</td>\n",
       "    </tr>\n",
       "    <tr>\n",
       "      <td>1700</td>\n",
       "      <td>0.789800</td>\n",
       "      <td>0.807088</td>\n",
       "      <td>0.649313</td>\n",
       "    </tr>\n",
       "  </tbody>\n",
       "</table><p>"
      ],
      "text/plain": [
       "<IPython.core.display.HTML object>"
      ]
     },
     "metadata": {},
     "output_type": "display_data"
    }
   ],
   "source": [
    "train_results = trainer.train()"
   ]
  },
  {
   "cell_type": "code",
   "execution_count": 62,
   "id": "27e1f573-8caf-4f2e-b29f-d8fe477a3a79",
   "metadata": {},
   "outputs": [
    {
     "name": "stdout",
     "output_type": "stream",
     "text": [
      "***** train metrics *****\n",
      "  epoch                    =         10.0\n",
      "  total_flos               = 3992482356GF\n",
      "  train_loss               =        0.852\n",
      "  train_runtime            =   1:46:16.02\n",
      "  train_samples_per_second =        8.676\n",
      "  train_steps_per_second   =        0.271\n"
     ]
    }
   ],
   "source": [
    "trainer.save_model()\n",
    "trainer.log_metrics(\"train\", train_results.metrics)\n",
    "trainer.save_metrics(\"train\", train_results.metrics)\n",
    "trainer.save_state()"
   ]
  },
  {
   "cell_type": "markdown",
   "id": "7986d9e5-95aa-452e-aba5-2f1bf65a2b20",
   "metadata": {},
   "source": [
    "# ViT Large"
   ]
  },
  {
   "cell_type": "code",
   "execution_count": 40,
   "id": "f566e571-a90d-4ea2-a8e6-023c3ba903a3",
   "metadata": {},
   "outputs": [],
   "source": [
    "# Define feature processor\n",
    "model_name_or_path = 'google/vit-large-patch16-224-in21k'\n",
    "feature_processor = ViTImageProcessor.from_pretrained(model_name_or_path)"
   ]
  },
  {
   "cell_type": "code",
   "execution_count": 41,
   "id": "689565ad-ddd1-410c-b8d9-b6c8d8dbf8bf",
   "metadata": {},
   "outputs": [],
   "source": [
    "def transform(example_batch):\n",
    "    # Take a list of PIL images and turn them to pixel values\n",
    "    inputs = feature_processor([x for x in example_batch['image']], return_tensors='pt')\n",
    "\n",
    "    # Don't forget to include the labels!\n",
    "    inputs['labels'] = example_batch['labels']\n",
    "    return inputs\n",
    "\n",
    "prepared_ds = ds.with_transform(transform)"
   ]
  },
  {
   "cell_type": "code",
   "execution_count": 28,
   "id": "a8cd1fd0-e990-411b-8153-5bf21476f382",
   "metadata": {},
   "outputs": [
    {
     "name": "stderr",
     "output_type": "stream",
     "text": [
      "Some weights of ViTForImageClassification were not initialized from the model checkpoint at google/vit-large-patch16-224-in21k and are newly initialized: ['classifier.bias', 'classifier.weight']\n",
      "You should probably TRAIN this model on a down-stream task to be able to use it for predictions and inference.\n"
     ]
    }
   ],
   "source": [
    "# Load the ViT Model\n",
    "\n",
    "labels = ds['train'].features['labels'].names\n",
    "model = ViTForImageClassification.from_pretrained(\n",
    "    model_name_or_path,\n",
    "    num_labels=len(labels),\n",
    "    id2label={str(i): c for i, c in enumerate(labels)},\n",
    "    label2id={c: str(i) for i, c in enumerate(labels)}\n",
    ")"
   ]
  },
  {
   "cell_type": "code",
   "execution_count": 29,
   "id": "45f194af-e36a-4706-957f-edbb224158fe",
   "metadata": {},
   "outputs": [
    {
     "name": "stdout",
     "output_type": "stream",
     "text": [
      "Trainable Parameters: ['classifier.weight', 'classifier.bias']\n"
     ]
    }
   ],
   "source": [
    "# Freeze the backbone\n",
    "for param in model.vit.parameters():\n",
    "    param.requires_grad = False\n",
    "\n",
    "# Verify trainable parameters\n",
    "trainable_params = [name for name, param in model.named_parameters() if param.requires_grad]\n",
    "print(\"Trainable Parameters:\", trainable_params)"
   ]
  },
  {
   "cell_type": "code",
   "execution_count": 42,
   "id": "97cf6308-1214-42d8-aa7e-6ed1c9e7871b",
   "metadata": {},
   "outputs": [],
   "source": [
    "# Define Training Arguments\n",
    "training_args = TrainingArguments(\n",
    "    output_dir=\"./vit-large-final-layer-only\",\n",
    "    per_device_train_batch_size=32,\n",
    "    eval_strategy=\"steps\",  \n",
    "    num_train_epochs=10,\n",
    "    bf16=True,\n",
    "    save_steps=100,\n",
    "    eval_steps=100,\n",
    "    logging_steps=10,\n",
    "    learning_rate=2e-4,\n",
    "    save_total_limit=2,\n",
    "    remove_unused_columns=False,\n",
    "    push_to_hub=False,\n",
    "    report_to='tensorboard',\n",
    "    load_best_model_at_end=True,\n",
    ")"
   ]
  },
  {
   "cell_type": "code",
   "execution_count": 31,
   "id": "7b4bc6bc-9f9a-4d7f-895d-77ddc19b5af3",
   "metadata": {},
   "outputs": [],
   "source": [
    "# Initialize Trainer\n",
    "\n",
    "trainer = Trainer(\n",
    "    model=model,\n",
    "    args=training_args,\n",
    "    data_collator=collate_fn,\n",
    "    compute_metrics=compute_metrics,\n",
    "    train_dataset=prepared_ds['train'],\n",
    "    eval_dataset=prepared_ds['validation'],\n",
    "    processing_class=feature_processor\n",
    ")"
   ]
  },
  {
   "cell_type": "code",
   "execution_count": 69,
   "id": "e6226fc7-83f9-405f-ba8e-57f520047072",
   "metadata": {},
   "outputs": [
    {
     "data": {
      "text/html": [
       "\n",
       "    <div>\n",
       "      \n",
       "      <progress value='1730' max='1730' style='width:300px; height:20px; vertical-align: middle;'></progress>\n",
       "      [1730/1730 6:27:51, Epoch 10/10]\n",
       "    </div>\n",
       "    <table border=\"1\" class=\"dataframe\">\n",
       "  <thead>\n",
       " <tr style=\"text-align: left;\">\n",
       "      <th>Step</th>\n",
       "      <th>Training Loss</th>\n",
       "      <th>Validation Loss</th>\n",
       "      <th>Accuracy</th>\n",
       "    </tr>\n",
       "  </thead>\n",
       "  <tbody>\n",
       "    <tr>\n",
       "      <td>100</td>\n",
       "      <td>0.885800</td>\n",
       "      <td>0.887988</td>\n",
       "      <td>0.609544</td>\n",
       "    </tr>\n",
       "    <tr>\n",
       "      <td>200</td>\n",
       "      <td>0.800400</td>\n",
       "      <td>0.820570</td>\n",
       "      <td>0.637021</td>\n",
       "    </tr>\n",
       "    <tr>\n",
       "      <td>300</td>\n",
       "      <td>0.765200</td>\n",
       "      <td>0.788839</td>\n",
       "      <td>0.639190</td>\n",
       "    </tr>\n",
       "    <tr>\n",
       "      <td>400</td>\n",
       "      <td>0.741100</td>\n",
       "      <td>0.768569</td>\n",
       "      <td>0.657267</td>\n",
       "    </tr>\n",
       "    <tr>\n",
       "      <td>500</td>\n",
       "      <td>0.739300</td>\n",
       "      <td>0.757946</td>\n",
       "      <td>0.658713</td>\n",
       "    </tr>\n",
       "    <tr>\n",
       "      <td>600</td>\n",
       "      <td>0.700300</td>\n",
       "      <td>0.745110</td>\n",
       "      <td>0.668836</td>\n",
       "    </tr>\n",
       "    <tr>\n",
       "      <td>700</td>\n",
       "      <td>0.744100</td>\n",
       "      <td>0.738239</td>\n",
       "      <td>0.671005</td>\n",
       "    </tr>\n",
       "    <tr>\n",
       "      <td>800</td>\n",
       "      <td>0.722400</td>\n",
       "      <td>0.732531</td>\n",
       "      <td>0.674620</td>\n",
       "    </tr>\n",
       "    <tr>\n",
       "      <td>900</td>\n",
       "      <td>0.753600</td>\n",
       "      <td>0.726216</td>\n",
       "      <td>0.681128</td>\n",
       "    </tr>\n",
       "    <tr>\n",
       "      <td>1000</td>\n",
       "      <td>0.696000</td>\n",
       "      <td>0.722297</td>\n",
       "      <td>0.678959</td>\n",
       "    </tr>\n",
       "    <tr>\n",
       "      <td>1100</td>\n",
       "      <td>0.741800</td>\n",
       "      <td>0.718171</td>\n",
       "      <td>0.682574</td>\n",
       "    </tr>\n",
       "    <tr>\n",
       "      <td>1200</td>\n",
       "      <td>0.682800</td>\n",
       "      <td>0.713803</td>\n",
       "      <td>0.682574</td>\n",
       "    </tr>\n",
       "    <tr>\n",
       "      <td>1300</td>\n",
       "      <td>0.676900</td>\n",
       "      <td>0.711427</td>\n",
       "      <td>0.682574</td>\n",
       "    </tr>\n",
       "    <tr>\n",
       "      <td>1400</td>\n",
       "      <td>0.704000</td>\n",
       "      <td>0.709981</td>\n",
       "      <td>0.685466</td>\n",
       "    </tr>\n",
       "    <tr>\n",
       "      <td>1500</td>\n",
       "      <td>0.648600</td>\n",
       "      <td>0.708754</td>\n",
       "      <td>0.689082</td>\n",
       "    </tr>\n",
       "    <tr>\n",
       "      <td>1600</td>\n",
       "      <td>0.659100</td>\n",
       "      <td>0.708106</td>\n",
       "      <td>0.686913</td>\n",
       "    </tr>\n",
       "    <tr>\n",
       "      <td>1700</td>\n",
       "      <td>0.705400</td>\n",
       "      <td>0.707626</td>\n",
       "      <td>0.686913</td>\n",
       "    </tr>\n",
       "  </tbody>\n",
       "</table><p>"
      ],
      "text/plain": [
       "<IPython.core.display.HTML object>"
      ]
     },
     "metadata": {},
     "output_type": "display_data"
    }
   ],
   "source": [
    "train_results = trainer.train()"
   ]
  },
  {
   "cell_type": "code",
   "execution_count": 70,
   "id": "76a54005-cb76-4d1a-bf1f-feb9c1748d40",
   "metadata": {},
   "outputs": [
    {
     "name": "stdout",
     "output_type": "stream",
     "text": [
      "***** train metrics *****\n",
      "  epoch                    =          10.0\n",
      "  total_flos               = 14113346154GF\n",
      "  train_loss               =        0.7364\n",
      "  train_runtime            =    6:27:57.89\n",
      "  train_samples_per_second =         2.377\n",
      "  train_steps_per_second   =         0.074\n"
     ]
    }
   ],
   "source": [
    "trainer.save_model()\n",
    "trainer.log_metrics(\"train\", train_results.metrics)\n",
    "trainer.save_metrics(\"train\", train_results.metrics)\n",
    "trainer.save_state()"
   ]
  },
  {
   "cell_type": "markdown",
   "id": "c1de1af8-ff24-4f04-b537-f273898e0e43",
   "metadata": {},
   "source": [
    "# Predict on Test Dataset(ViT-base-Final-Layer-Only Model)"
   ]
  },
  {
   "cell_type": "code",
   "execution_count": 25,
   "id": "3bbaec9f-822a-4c2b-ab85-708d4a934c2c",
   "metadata": {},
   "outputs": [],
   "source": [
    "model_path = \"./vit-final-layer-only\"  # Use the path where the model is saved\n",
    "model = ViTForImageClassification.from_pretrained(model_path)\n",
    "\n",
    "# Prepare the test dataset\n",
    "test_dataset = prepared_ds['test']\n",
    "\n",
    "from copy import deepcopy\n",
    "\n",
    "# Make a copy of the training arguments and disable eval strategy\n",
    "predict_args = deepcopy(training_args)\n",
    "predict_args.eval_strategy = \"no\"\n",
    "\n",
    "trainer = Trainer(\n",
    "    model=model,\n",
    "    args=predict_args,\n",
    "    data_collator=collate_fn,\n",
    "    compute_metrics=None,  # No metrics are needed for prediction\n",
    ")"
   ]
  },
  {
   "cell_type": "code",
   "execution_count": 28,
   "id": "9938e040-d331-40c5-bc83-6e4b7fdcb7e8",
   "metadata": {},
   "outputs": [
    {
     "data": {
      "text/html": [],
      "text/plain": [
       "<IPython.core.display.HTML object>"
      ]
     },
     "metadata": {},
     "output_type": "display_data"
    }
   ],
   "source": [
    "# Predict on the test set\n",
    "results = trainer.predict(prepared_ds['test'])\n",
    "\n",
    "# Extract predicted probabilities and labels\n",
    "predicted_probs = torch.sigmoid(torch.tensor(results.predictions)).numpy()  # Apply sigmoid for multi-label\n",
    "all_labels = results.label_ids\n",
    "\n",
    "# For single-label classification (argmax for predictions)\n",
    "predicted_labels = np.argmax(results.predictions, axis=1)"
   ]
  },
  {
   "cell_type": "code",
   "execution_count": 39,
   "id": "de877a2a-cfa2-47c2-a75c-a3d210b234eb",
   "metadata": {},
   "outputs": [
    {
     "data": {
      "image/png": "[encoded data removed]",
      "text/plain": [
       "<Figure size 800x600 with 2 Axes>"
      ]
     },
     "metadata": {},
     "output_type": "display_data"
    },
    {
     "name": "stdout",
     "output_type": "stream",
     "text": [
      "Classification Report:\n",
      "              precision    recall  f1-score   support\n",
      "\n",
      "           0       0.74      0.79      0.77       410\n",
      "           1       0.54      0.57      0.55       375\n",
      "           2       0.80      0.71      0.75       455\n",
      "\n",
      "    accuracy                           0.70      1240\n",
      "   macro avg       0.69      0.69      0.69      1240\n",
      "weighted avg       0.70      0.70      0.70      1240\n",
      "\n"
     ]
    }
   ],
   "source": [
    "# Extract true labels\n",
    "all_labels = results.label_ids  # True labels should be directly accessible\n",
    "\n",
    "# Generate confusion matrix\n",
    "conf_matrix = confusion_matrix(all_labels, predicted_labels)\n",
    "\n",
    "# Plot confusion matrix\n",
    "plt.figure(figsize=(8, 6))\n",
    "sns.heatmap(conf_matrix, annot=True, fmt=\"d\", cmap=\"Blues\", xticklabels=np.unique(all_labels), yticklabels=np.unique(all_labels))\n",
    "plt.xlabel('Predicted Labels')\n",
    "plt.ylabel('True Labels')\n",
    "plt.title('Confusion Matrix')\n",
    "plt.show()\n",
    "\n",
    "# Print classification report\n",
    "print(\"Classification Report:\")\n",
    "print(classification_report(all_labels, predicted_labels))"
   ]
  },
  {
   "cell_type": "markdown",
   "id": "34e85e4c-99db-4483-a7dc-543c30b51682",
   "metadata": {},
   "source": [
    "# Predict on Test Dataset(Large Model)"
   ]
  },
  {
   "cell_type": "markdown",
   "id": "eefc05df-c7c4-4afa-820f-b168d4d79d08",
   "metadata": {},
   "source": [
    "!!! Make sure to run the different processor for data first !!!"
   ]
  },
  {
   "cell_type": "code",
   "execution_count": 43,
   "id": "62dc6a64-98d0-4d47-90eb-8cb344227ee7",
   "metadata": {},
   "outputs": [],
   "source": [
    "model_path = \"./vit-large-final-layer-only/\"  # Use the path where the model is saved\n",
    "model = ViTForImageClassification.from_pretrained(model_path)\n",
    "\n",
    "# Prepare the test dataset\n",
    "test_dataset = prepared_ds['test']\n",
    "\n",
    "from copy import deepcopy\n",
    "\n",
    "# Make a copy of the training arguments and disable eval strategy\n",
    "predict_args = deepcopy(training_args)\n",
    "predict_args.eval_strategy = \"no\"\n",
    "\n",
    "trainer = Trainer(\n",
    "    model=model,\n",
    "    args=predict_args,\n",
    "    data_collator=collate_fn,\n",
    "    compute_metrics=None,  # No metrics are needed for prediction\n",
    ")"
   ]
  },
  {
   "cell_type": "code",
   "execution_count": 44,
   "id": "0dad6ff5-9e4e-4722-876f-e54b2ce53bb8",
   "metadata": {},
   "outputs": [
    {
     "data": {
      "text/html": [],
      "text/plain": [
       "<IPython.core.display.HTML object>"
      ]
     },
     "metadata": {},
     "output_type": "display_data"
    }
   ],
   "source": [
    "# Predict on the test set\n",
    "results = trainer.predict(prepared_ds['test'])\n",
    "\n",
    "# Extract predicted probabilities and labels\n",
    "predicted_probs = torch.sigmoid(torch.tensor(results.predictions)).numpy()  # Apply sigmoid for multi-label\n",
    "all_labels = results.label_ids\n",
    "\n",
    "# For single-label classification (argmax for predictions)\n",
    "predicted_labels = np.argmax(results.predictions, axis=1)"
   ]
  },
  {
   "cell_type": "code",
   "execution_count": 45,
   "id": "12af7983-e7c0-41b7-bfca-5a1a3f9f9622",
   "metadata": {},
   "outputs": [
    {
     "data": {
      "image/png": "[encoded data removed]",
      "text/plain": [
       "<Figure size 800x600 with 2 Axes>"
      ]
     },
     "metadata": {},
     "output_type": "display_data"
    },
    {
     "name": "stdout",
     "output_type": "stream",
     "text": [
      "Classification Report:\n",
      "              precision    recall  f1-score   support\n",
      "\n",
      "           0       0.72      0.78      0.75       410\n",
      "           1       0.54      0.59      0.56       375\n",
      "           2       0.84      0.73      0.78       455\n",
      "\n",
      "    accuracy                           0.70      1240\n",
      "   macro avg       0.70      0.70      0.70      1240\n",
      "weighted avg       0.71      0.70      0.70      1240\n",
      "\n"
     ]
    }
   ],
   "source": [
    "# Extract true labels\n",
    "all_labels = results.label_ids  # True labels should be directly accessible\n",
    "\n",
    "# Generate confusion matrix\n",
    "conf_matrix = confusion_matrix(all_labels, predicted_labels)\n",
    "\n",
    "# Plot confusion matrix\n",
    "plt.figure(figsize=(8, 6))\n",
    "sns.heatmap(conf_matrix, annot=True, fmt=\"d\", cmap=\"Blues\", xticklabels=np.unique(all_labels), yticklabels=np.unique(all_labels))\n",
    "plt.xlabel('Predicted Labels')\n",
    "plt.ylabel('True Labels')\n",
    "plt.title('Confusion Matrix')\n",
    "plt.show()\n",
    "\n",
    "# Print classification report\n",
    "print(\"Classification Report:\")\n",
    "print(classification_report(all_labels, predicted_labels))"
   ]
  },
  {
   "cell_type": "code",
   "execution_count": null,
   "id": "5e511384-f801-4abf-b0cf-5e5e7f70987d",
   "metadata": {},
   "outputs": [],
   "source": []
  }
 ],
 "metadata": {
  "kernelspec": {
   "display_name": "Python (Deep Learning)",
   "language": "python",
   "name": "ada"
  },
  "language_info": {
   "codemirror_mode": {
    "name": "ipython",
    "version": 3
   },
   "file_extension": ".py",
   "mimetype": "text/x-python",
   "name": "python",
   "nbconvert_exporter": "python",
   "pygments_lexer": "ipython3",
   "version": "3.12.4"
  }
 },
 "nbformat": 4,
 "nbformat_minor": 5
}
